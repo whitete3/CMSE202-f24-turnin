{
 "cells": [
  {
   "cell_type": "markdown",
   "metadata": {
    "pycharm": {
     "name": "#%% md\n"
    }
   },
   "source": [
    "# Pre-Class Assignment: Python Review and Intro to Git\n",
    "## Day 3 \n",
    "\n",
    "### <p style=\"text-align: right;\"> &#9989; Put your name here</p>\n",
    "\n",
    "<div align=\"left\"><img src=\"https://upload.wikimedia.org/wikipedia/commons/thumb/e/e0/Git-logo.svg/1280px-Git-logo.svg.png\" alt=\"git logo\" width=400></div>"
   ]
  },
  {
   "cell_type": "markdown",
   "metadata": {
    "pycharm": {
     "name": "#%% md\n"
    }
   },
   "source": [
    "## Goals for today's pre-class assignment \n",
    "\n",
    "1. Continue to revisit some basic Python skills (exploring Python Tutor and reviewing Python data structures)\n",
    "2. Learn the basics of version control using Git.\n",
    "\n",
    "### Assignment instructions\n",
    "\n",
    "Watch the videos below, do the readings linked to below the videos, and complete the assigned programming problems.  Please get started early, and come to office hours if you have any questions! You should also use Slack to help each other thought any issues you run into!\n",
    "\n",
    "\n",
    "**This assignment is due by 11:59 p.m. the day before class,** and should be uploaded into the appropriate \"Pre-class assignments\" submission folder.  Submission instructions can be found at the end of the notebook."
   ]
  },
  {
   "cell_type": "markdown",
   "metadata": {
    "pycharm": {
     "name": "#%% md\n"
    }
   },
   "source": [
    "---\n",
    "## Part 1. Continuing to revisit your Python skills\n",
    "\n",
    "**IMPORTANT NOTE**: The content in this section is meant to be an opportunity for you to continue dusting any lingering cobwebs off of your Python skills. If you feel like you could use some refreshers on some basic Python content, work through this material. If you're feeling pretty good about your Python skills, feel free to skim through the content and only spend time on the stuff that seems useful.\n",
    "\n",
    "### Building a conceptual model  Using [Python Tutor](http://www.pythontutor.com/)\n",
    "\n",
    "This section introduces a learning tool called [Python Tutor](http://www.pythontutor.com/).  This is a web-based tool you can use to help figure out how the python interpreter maintains the state of variables and modules.  I recommend using this tool anytime you are confused about what is going on inside of python. Please watch the following video for an example about using Python Tutor."
   ]
  },
  {
   "cell_type": "code",
   "execution_count": 1,
   "metadata": {
    "pycharm": {
     "name": "#%%\n"
    }
   },
   "outputs": [
    {
     "data": {
      "image/jpeg": "[encoded data removed]",
      "text/html": [
       "\n",
       "        <iframe\n",
       "            width=\"800\"\n",
       "            height=\"450\"\n",
       "            src=\"https://www.youtube.com/embed/1OQ_E1y73Es\"\n",
       "            frameborder=\"0\"\n",
       "            allowfullscreen\n",
       "            \n",
       "        ></iframe>\n",
       "        "
      ],
      "text/plain": [
       "<IPython.lib.display.YouTubeVideo at 0x7f144ac94390>"
      ]
     },
     "execution_count": 1,
     "metadata": {},
     "output_type": "execute_result"
    }
   ],
   "source": [
    "from IPython.display import YouTubeVideo\n",
    "YouTubeVideo(\"1OQ_E1y73Es\",width=800,height=450)"
   ]
  },
  {
   "cell_type": "markdown",
   "metadata": {
    "pycharm": {
     "name": "#%% md\n"
    }
   },
   "source": [
    "### Watch the above video and answer the following questions:"
   ]
  },
  {
   "cell_type": "markdown",
   "metadata": {
    "pycharm": {
     "name": "#%% md\n"
    }
   },
   "source": [
    "&#9989; **Question 1:**  In words, describe how python tutor represents the following two dimensional list:"
   ]
  },
  {
   "cell_type": "code",
   "execution_count": null,
   "metadata": {
    "pycharm": {
     "name": "#%%\n"
    }
   },
   "outputs": [],
   "source": [
    "l = [ [('me','you'), 20, 30], [4, 5, 6], ['a','b','c']]"
   ]
  },
  {
   "cell_type": "markdown",
   "metadata": {
    "pycharm": {
     "name": "#%% md\n"
    }
   },
   "source": [
    "<font size=+3>&#9998;</font> Python tutor visualizes this code as 'l' being a global frame that hosts a list as an object. Within the list there are three values, the first holds a another list of three values, containing a tuple ('me', you') and two numbers. The other two values also hold lists of three, one with all numbers and one with strings."
   ]
  },
  {
   "cell_type": "markdown",
   "metadata": {
    "pycharm": {
     "name": "#%% md\n"
    }
   },
   "source": [
    "&#9989; **Question 2:**  Play with Python Tutor to see what else you can visualize.  Write an interesting example. Either an example that demonstrates something you didn't fully understand or an example that highlights a limitation of the tool."
   ]
  },
  {
   "cell_type": "code",
   "execution_count": 2,
   "metadata": {
    "pycharm": {
     "name": "#%%\n"
    }
   },
   "outputs": [
    {
     "name": "stdout",
     "output_type": "stream",
     "text": [
      "[20 50]\n"
     ]
    }
   ],
   "source": [
    "import numpy as np\n",
    "\n",
    "l = np.array([[10, 20, 30],[40, 50, 60],[70, 80, 90]])\n",
    "index = l[:2,1]\n",
    "print(index)"
   ]
  },
  {
   "cell_type": "markdown",
   "metadata": {
    "pycharm": {
     "name": "#%% md\n"
    }
   },
   "source": [
    "&#9989; **Question 3:**  Describe what you learned or what you found interesting in your answer to Question 2. "
   ]
  },
  {
   "cell_type": "markdown",
   "metadata": {
    "pycharm": {
     "name": "#%% md\n"
    }
   },
   "source": [
    "<font size=+3>&#9998;</font> I learned that you cant use numpy, which is a big limitation to python tutor."
   ]
  },
  {
   "cell_type": "markdown",
   "metadata": {
    "pycharm": {
     "name": "#%% md\n"
    }
   },
   "source": [
    "\n",
    "### Review of Python Containers (lists, sets, dictionaries, tuples)\n",
    "\n",
    "The following video reviews all of the way that Python can natively story data (without something like Pandas). Note that the one exception to this is that the video talks about NumPy arrays, which are not a default Python functionality. You might find it useful to review this material to reminder yourself how you can store and manipulate data in Python since you'll be working a lot with data this semester."
   ]
  },
  {
   "cell_type": "code",
   "execution_count": 3,
   "metadata": {
    "pycharm": {
     "name": "#%%\n"
    }
   },
   "outputs": [
    {
     "data": {
      "image/jpeg": "[encoded data removed]",
      "text/html": [
       "\n",
       "        <iframe\n",
       "            width=\"800\"\n",
       "            height=\"450\"\n",
       "            src=\"https://www.youtube.com/embed/aBqTgR-gP3g\"\n",
       "            frameborder=\"0\"\n",
       "            allowfullscreen\n",
       "            \n",
       "        ></iframe>\n",
       "        "
      ],
      "text/plain": [
       "<IPython.lib.display.YouTubeVideo at 0x7f1448369bd0>"
      ]
     },
     "execution_count": 3,
     "metadata": {},
     "output_type": "execute_result"
    }
   ],
   "source": [
    "from IPython.display import YouTubeVideo\n",
    "YouTubeVideo(\"aBqTgR-gP3g\",width=800,height=450)"
   ]
  },
  {
   "cell_type": "markdown",
   "metadata": {
    "pycharm": {
     "name": "#%% md\n"
    }
   },
   "source": [
    "#### The cell below includes a reproduction of the table from the video.\n",
    "\n",
    "**Note**: If you're using \"JupyterLab\" instead of the standard Jupyter Notebook interface, you may find that this table runs off the edge of your browser window. If this happens, you are encouraged to open it as a standard Jupyter Notebook to end up with a version of the table that will scroll left-to-right. Newer versions of JupyterLab appear to have resolved this issue though."
   ]
  },
  {
   "cell_type": "markdown",
   "metadata": {
    "pycharm": {
     "name": "#%% md\n"
    }
   },
   "source": [
    "|Container Type|Mutable or Immutable|Initialization *Without* Values|Initializtion *With* Values|Adding Values to Container|Removing Values from Container|Modifying Values|Access Method|Notable Operations and Additional Information|\n",
    "|:---------------|:---------------|:---------------|:---------------|:---------------|:---------------|:---------------|:---------------|:---------------|\n",
    "|**List**| Mutable |<ul><li>`a=list()` </li><li> `a=[]` </li></ul> | `a=['1', '2', '3']`|  <ul><li>` list.append(item) #Adds item to the end of the list` </li><li> ` list.insert(index, item) #Adds item to the specified index in the list`</li></ul>|`list.remove(item) #removes the first instance of 'item' from the list. If there is not such element, this will cause an error`|`>>> a[0] = 'cat'` <br> `>>> a` <br> `['cat', '2', '3']` |Access by index: <br> `>>> a[0]` <br> `1`|See webpage at http://www.linuxtopia.org/online_books/programming_books/python_programming/python_ch14s07.html for some helpful methods when dealing with lists.|\n",
    "|**Dictionary**|Mutable| `student={}` | `>>> student={'name': 'John Doe', 'age': 22, 'college': 'MSU'}` | `>>> student['major']='Computer Science'` <br> `>>> student` <br> `{'name': 'John Doe', 'age': 22, 'college': 'MSU', 'major': 'Computer Science'}` | `del dictName[keyName] #This method removes all entries associated with the given key` | `>>> student['age'] = 23` <br> `>>> student` <br> `{'name': 'John Doe', 'age': 23, 'college': 'MSU', 'major': 'Computer Science'}`| Access by key word. Note that this key **must** be a string. <br> `>>>student['college']` <br> `MSU`| The 'in' keyword can be very helpful with dictionaries. Ex: <br><ul><li>`'k' in dict #Returns true if key 'k' is in dictionary dict`</li><li>`'k' not in dict #Returns true if key 'k' is not in dicitonary dict`</li><li>`for key in dict #This will iterate over all keys in dictionary dict`</li></ul> <br>See webpage at http://www.python-course.eu/python3_dictionaries.php for additional helpful methods and operations|\n",
    "|**Set**|Mutable. However the objects contained within a set **must** be immutable. | `s=set()`|`s=set(['a','b','c'])` | `s.add(item)`|<ul><li> `set.discard(item) #If item is in the set, the item is removed, otherwise nothing happens` </li><li> `set.remove(item) #If item is in the set, the item is removed, otherwise raise a KeyError` </li><li> `set.pop() #Remove and return an arbitrary element from the set. If the set is empty, raise a KeyError` </li>| Sets are unordered, therefore indexing does not mean anything. To modify a set, you must directly add or remove elements. |`>>> set.pop() #This will remove and return an arbitrary element from the set`|Some helpful methods include:<ul><li>`difference()`</li><li>`intersection()`</li><li>`isdisjoint()`</li><li>`union()`</li></ul><br> See webpage at http://www.programiz.com/python-programming/set for additional helpful methods and operations|\n",
    "| **Tuple** |Immutable|<ul><li>`t=()`</li><li> `t=tuple()`</li><ul>|<ul><li>1-tuple:<br>`t=('Hello',)`</li><li> 2-tuple:<br> `t=('Hello', 'Goodbye')`</li><ul>|N/A|N/A|N/A|`t=('Hello','Goodbye','Goodnight')`<ul><li>Access By Index: <br> `>>> t[0]` <br> `'Hello'` </li><br><li> Access By Slice <br> `>>>t[0:1:2]` <br> `('Hello','Goodbye')`</li></ul>|<ul><li>Packing and Unpacking</li><br><li>Tuple to List: `list(tupleName)`</li></ul>|\n",
    "| **NumPy Array\\***|Mutable|`a=np.array([])`| `a=np.array([1,2,3,4,5])` | <ul><li>`np.insert(arrayName,index,values,axis) #Inserts a value for an array at the given index.` </li><li>`np.append(arrayName,value,axis) #Appends values to the end of an array.`</li></ul>|`np.array(array,index/indices,axis) #Returns a new array with the given index or array of indices deleted on the given axis`|`>>> a[4] = 12` <br> `array([ 1,  2,  3,  4, 12])` <br><br> For additional information on manipulating NumPy Arrays see the webpage at http://docs.scipy.org/doc/numpy/reference/routines.array-manipulation.html |<ul><li>Access By Index: <br> `>>> a[0] `<br>` 1 `</li><li>Access By Slice: <br> `>>> a[0:5:2] `<br> `array([1, 3, 5])` </li></ul><br>See webpage at http://docs.scipy.org/doc/numpy/reference/arrays.indexing.html for further information about indexing of NumPy Arrays|See webpages at http://www.scipy-lectures.org/intro/numpy/array_object.html and https://docs.scipy.org/doc/numpy-dev/user/quickstart.html for additional information on NumPy Arrays|\n",
    "\n",
    "    \n",
    "\\*Use of the NumPy Array requires the NumPy Python Module. In these examples, it is assumed that the import statement is \"import numpy as np\"\n",
    "\n",
    "---"
   ]
  },
  {
   "cell_type": "markdown",
   "metadata": {
    "pycharm": {
     "name": "#%% md\n"
    }
   },
   "source": [
    "&#9989; **Question 4:** What is the difference between mutable and immutable objects?  Give an example of a scientific model where you would choose one over the other (ex. maybe a tuple vs. a list). Explain the choice. "
   ]
  },
  {
   "cell_type": "markdown",
   "metadata": {
    "pycharm": {
     "name": "#%% md\n"
    }
   },
   "source": [
    "<font size=+3>&#9998;</font> Immutable objects cannot be changed after they are created, whereas mutable objects can. Linear regression models would be better suited for immutable objects as the data does not change once it is established."
   ]
  },
  {
   "cell_type": "markdown",
   "metadata": {
    "pycharm": {
     "name": "#%% md\n"
    }
   },
   "source": [
    "&#9989; **Question 5:** Imagine a function that takes filename as a string input and counts the number of times each word appears in the file.  What type of container would make the most sense for storing the words and the word counts?  Why?"
   ]
  },
  {
   "cell_type": "markdown",
   "metadata": {
    "pycharm": {
     "name": "#%% md\n"
    }
   },
   "source": [
    "<font size=+3>&#9998;</font> A dictionary would make the most sense for storing the words and counts because it can find key values and makes it easy to count."
   ]
  },
  {
   "cell_type": "markdown",
   "metadata": {
    "pycharm": {
     "name": "#%% md\n"
    }
   },
   "source": [
    "&#9989; **Question 6:**  A digital image is often represented as a three dimensional array.  Where the first dimension is row, the second dimension is column and the third dimension is a color.  Create a three dimensional containers of numbers with 10 rows, 10 columns and 3 colors (red, green and blue) and initialize all of the numbers to zero.  "
   ]
  },
  {
   "cell_type": "code",
   "execution_count": 5,
   "metadata": {
    "pycharm": {
     "name": "#%%\n"
    }
   },
   "outputs": [],
   "source": [
    "i, j, c = 10, 10, 3\n",
    "image = [[[0 for _ in range(c)] for _ in range(j)] for _ in range(i)]"
   ]
  },
  {
   "cell_type": "markdown",
   "metadata": {
    "pycharm": {
     "name": "#%% md\n"
    }
   },
   "source": [
    "----\n",
    "## Part 2. Getting to Know Git\n",
    "\n",
    "(**NOTE:** This material was either inspired by or drawn from [Frisbie, R. L, Grete, P., & Glines, F. W. (2022)](https://escholarship.org/uc/item/6fv1s464#main))\n",
    "\n",
    "<img src=\"https://git-scm.com/images/logos/downloads/Git-Logo-2Color.png\" width=\"200\">\n",
    "\n",
    "### 2.1: Why use Git?\n",
    "\n",
    "### Answer: Sustainable Software Development\n",
    "\n",
    "#### What is Sustainable Software Development?\n",
    "\n",
    "Generally, when we say sustainable software, we mean software that: \n",
    "1. Is useful for more than a single task (like having a publication quality plotting program you can use for all plots instead of redoing it every time),\n",
    "1. Is shareable (so other people can read and understand it, and perhaps use it), \n",
    "1. It works not just on your computer with your particular settings (for file locations, python libraries, etc.) \n",
    "1. Finally, if the software is used by a larger community, then that community should know how to interact with the code and each other.\n",
    "Some examples: Android, Linux, Python, SciPy, matplotlib, Enzo, and many more!\n",
    "\n",
    "\n",
    "#### 2.1.1: \n",
    "Before moving on, broadly think about collaborative software development from small to large projects. Write down questions, concerns, or general topics of interest pertaining to challenges and processes in different collaborative software development environments."
   ]
  },
  {
   "cell_type": "markdown",
   "metadata": {
    "pycharm": {
     "name": "#%% md\n"
    }
   },
   "source": [
    "<font size=+3>&#9998;</font> Since anyone could access your work, there should be concern of plagiarism"
   ]
  },
  {
   "cell_type": "markdown",
   "metadata": {},
   "source": [
    "#### Examples of Sustainable Software Challenges\n",
    "\n",
    "In a professional setting, you’ll be asked to work on large projects with many people working on them simultaneously. This can create a logistical nightmare, as you want all of the different pieces that everyone is working on to be able to work together. \n",
    "\n",
    "Let’s look at a few situations that can help us understand why Git is such a powerful tool in software development. \n",
    "\n",
    "1. *You’re working on an app with four friends–Han, Mika, Jacob, and Navi–just for fun. You’re collaborating on code meant to look up files in a database, and Navi wants to add a function to the code. How can you both work on the same file at the same time?*\n",
    "1. *As you’re working on your app, you realize that yesterday's change has broken the entire app. It was a pretty big change, and you’re not sure you can remember what the code looked like previously, and you don’t have time to rewrite it anyways. Moreover, your collaborators have also made changes to the code in the intervening time. How could you fix this problem?*\n",
    "1. *You’ve finished your app, and now you want to make it public, both so that the public can use it and that future employers can see it and see what you’re capable of doing. You also want to ensure that the code you worked so hard on isn’t lost if your computer dies. How can you make it accessible to others and ensure it isn’t easily lost?*\n",
    "\n",
    "\n",
    "\n",
    "#### 2.1.2: \n",
    "What are some possible solutions to these problems?"
   ]
  },
  {
   "cell_type": "markdown",
   "metadata": {
    "pycharm": {
     "name": "#%% md\n"
    }
   },
   "source": [
    "<font size=+3>&#9998;</font> 1. Because the files are collaborative and can have multiple people accessing a file at a time. 2. Load a back up file. 3. Upload to public cloud"
   ]
  },
  {
   "cell_type": "markdown",
   "metadata": {
    "pycharm": {
     "name": "#%% md\n"
    }
   },
   "source": [
    "### 2.2: What is Git?\n",
    "\n",
    "<font size=+3>&#128064;</font> [**Watch the following video**](https://mediaspace.msu.edu/media/Introduction+to+Git/1_oz7wqmwz) (<- click the link!) to get an understanding of what Git is and does.\n",
    "\n",
    "#### 2.2.1\n",
    "In your own words, describe what a commit is."
   ]
  },
  {
   "cell_type": "markdown",
   "metadata": {
    "pycharm": {
     "name": "#%% md\n"
    }
   },
   "source": [
    "<font size=+3>&#9998;</font> A list of all changes mad on your computer that you want to make to the repository"
   ]
  },
  {
   "cell_type": "markdown",
   "metadata": {
    "pycharm": {
     "name": "#%% md\n"
    }
   },
   "source": [
    "#### 2.2.2 \n",
    "\n",
    "Now, go back to the problems and concerns you identfied in 2.1.1, as well as the issues raised in the section \"Examples of Sustainable Software Challenges.\"\n",
    "\n",
    "Based on your new understanding of Git, if/how could you use Git to solve these problems?"
   ]
  },
  {
   "cell_type": "markdown",
   "metadata": {
    "pycharm": {
     "name": "#%% md\n"
    }
   },
   "source": [
    "<font size=+3>&#9998;</font> 1. Files are collaborative, doesnt matter. 2. Look at commit, or load up repo save. 3. Post online"
   ]
  },
  {
   "cell_type": "markdown",
   "metadata": {},
   "source": [
    "## A BRIEF INTERLUDE TO GET GIT SETUP\n",
    "\n",
    "### Github Account\n",
    "Go to [github.com](http://github.com) and make an account (if you haven't already done so).\n",
    "\n",
    "As a quick, but important, aside: Git is the name of the software system that we're using. *Github* is a hosting service that we're using to store our remote repos. There are other hosting services--like Gitlab and Bitbucket--but we'll be sticking with Github for this class.\n",
    "\n",
    "### <font color=\"red\">IMPORTANT:</font> Generating a Personal Access Token for GitHub\n",
    "In order to clone private repositories and push/pull changes to those repositories on GitHub, you will also need a Personal Access Token (PAT) to access GitHub via the terminal on your computer or within JupyterHub (for security reasons).\n",
    "\n",
    "To get a PAT, [**watch this video.**](https://mediaspace.msu.edu/media/Setting+up+a+personal+access+token+on+Github.com/1_exthwtyb) <font size=+3>&#128064;</font>\n",
    "\n",
    "**Useful suggestions**: Once you've set up a PAT and you've confirmed that you can use it to access GitHub, we have a couple of suggestions:\n",
    "1. Save it somewhere safe (like in a password manager or in a file on a secure computer) because you'll need it again later.\n",
    "2. You may wish to store your GitHub login credentials in your git configuration file so that you don't have to enter them every time you want to push/pull changes to/from GitHub. To do this, you can run the following command in your terminal:\n",
    "    \n",
    "    ``` bash\n",
    "    git config --global credential.helper store\n",
    "    ```\n",
    "    **Note**: If working locally (not on JupyterHub) and you're using a Mac, you may need to use the following command instead of the one above:\n",
    "    ``` bash\n",
    "    git config --global credential.helper osxkeychain\n",
    "    ```\n"
   ]
  },
  {
   "cell_type": "markdown",
   "metadata": {},
   "source": [
    "### 2.3: Using Git\n",
    "\n",
    "Let's start getting our hands dirty with Git.\n",
    "\n",
    "<font size=+3>&#128064;</font> [**Watch this video to get a quick tutorial on using Git and GitHub.**](https://mediaspace.msu.edu/media/Git+Tutorial/1_8qvay5ca) (<- click the link!)\n",
    "**NOTE:** There is a misstatement around 3:00 in the video; the version of the repo that they are in is the *local* repo, not the remote repo.\n",
    "\n",
    "#### 2.3.1\n",
    "\n",
    "**Make a new repo called `CMSE202-f24-turnin`**. This will be the repo where you will turn in your homework assignments and your exams. \n",
    "\n",
    "**Once you’ve made your repo, clone it to JupyterHub, modify the README file so that it has your name and what section of CMSE 202 you’re in, and commit your changes. Then, push your changes to the remote repo.**"
   ]
  },
  {
   "cell_type": "markdown",
   "metadata": {
    "pycharm": {
     "name": "#%% md\n"
    }
   },
   "source": [
    "---\n",
    "## Follow-up Questions\n",
    "\n",
    "Copy and paste the following questions into the appropriate box in the assignment survey include below and answer them there. (Note: You'll have to fill out the section number and the assignment number and go to the \"NEXT\" section of the survey to paste in these questions.)\n",
    "\n",
    "1. Python review: How often do you use the \"dictionary\" variable type in Python? Can you come up with an example for when a dictionary is particularly useful for storing information?\n",
    "\n",
    "2. Have you ever used Git prior to this course? If so, in what context?\n",
    "\n",
    "3. In your own words, explain why using a software tool like Git might be useful when you're working on a collaborative coding project."
   ]
  },
  {
   "cell_type": "markdown",
   "metadata": {
    "pycharm": {
     "name": "#%% md\n"
    }
   },
   "source": [
    "----\n",
    "\n",
    "# Assignment wrap-up\n",
    "\n",
    "Hopefully you were able to get through all of that! We'll be trouble-shooting any issues you had, working with remote git repositories, and testing out some more complicated git commands in class.\n",
    "\n",
    "Please fill out the form that appears when you run the code below.  **You must completely fill this out in order to receive credit for the assignment!**"
   ]
  },
  {
   "cell_type": "code",
   "execution_count": 7,
   "metadata": {
    "pycharm": {
     "name": "#%%\n"
    }
   },
   "outputs": [
    {
     "data": {
      "text/html": [
       "\n",
       "<iframe \n",
       "\tsrc=\"https://cmse.msu.edu/cmse202-pc-survey\" \n",
       "\twidth=\"800px\" \n",
       "\theight=\"600px\" \n",
       "\tframeborder=\"0\" \n",
       "\tmarginheight=\"0\" \n",
       "\tmarginwidth=\"0\">\n",
       "\tLoading...\n",
       "</iframe>\n"
      ],
      "text/plain": [
       "<IPython.core.display.HTML object>"
      ]
     },
     "execution_count": 7,
     "metadata": {},
     "output_type": "execute_result"
    }
   ],
   "source": [
    "from IPython.display import HTML\n",
    "HTML(\n",
    "\"\"\"\n",
    "<iframe \n",
    "\tsrc=\"https://cmse.msu.edu/cmse202-pc-survey\" \n",
    "\twidth=\"800px\" \n",
    "\theight=\"600px\" \n",
    "\tframeborder=\"0\" \n",
    "\tmarginheight=\"0\" \n",
    "\tmarginwidth=\"0\">\n",
    "\tLoading...\n",
    "</iframe>\n",
    "\"\"\"\n",
    ")\n"
   ]
  },
  {
   "cell_type": "markdown",
   "metadata": {
    "pycharm": {
     "name": "#%% md\n"
    }
   },
   "source": [
    "---------\n",
    "### Congratulations, you're done with your pre-class assignment!\n",
    "\n",
    "Now, you just need to submit this assignment by uploading it to the course <a href=\"https://d2l.msu.edu/\">Desire2Learn</a> web page for the appropriate pre-class submission folder (Don't forget to add your name in the first cell)."
   ]
  },
  {
   "cell_type": "markdown",
   "metadata": {
    "pycharm": {
     "name": "#%% md\n"
    }
   },
   "source": [
    "&#169; Copyright 2024,  Department of Computational Mathematics, Science and Engineering at Michigan State University\n",
    "\n",
    "<!-- 8/29/2024 -->"
   ]
  },
  {
   "cell_type": "markdown",
   "metadata": {},
   "source": []
  }
 ],
 "metadata": {
  "anaconda-cloud": {},
  "kernelspec": {
   "display_name": "Python 3.11 (default)",
   "language": "python",
   "name": "python3"
  },
  "language_info": {
   "codemirror_mode": {
    "name": "ipython",
    "version": 3
   },
   "file_extension": ".py",
   "mimetype": "text/x-python",
   "name": "python",
   "nbconvert_exporter": "python",
   "pygments_lexer": "ipython3",
   "version": "3.11.9"
  },
  "vscode": {
   "interpreter": {
    "hash": "31f2aee4e71d21fbe5cf8b01ff0e069b9275f58929596ceb00d14d90e3e16cd6"
   }
  },
  "widgets": {
   "application/vnd.jupyter.widget-state+json": {
    "state": {},
    "version_major": 2,
    "version_minor": 0
   }
  }
 },
 "nbformat": 4,
 "nbformat_minor": 4
}
