{
 "cells": [
  {
   "cell_type": "markdown",
   "metadata": {},
   "source": [
    "# Homework Assignment 1\n",
    "## Git practice, debugging practice, and new Python packages, and Python classes"
   ]
  },
  {
   "cell_type": "markdown",
   "metadata": {},
   "source": [
    "### <p style=\"text-align: right;\"> &#9989; Terry White.</p>\n",
    "### <p style=\"text-align: right;\"> &#9989; whitete3</p>"
   ]
  },
  {
   "cell_type": "markdown",
   "metadata": {},
   "source": [
    "### Goals for this homework assignment\n",
    "By the end of this assignment, you should be able to:\n",
    "* Use Git to create a repository, track changes to the files within the repository, and push those changes to a remote repository.\n",
    "* Debug some basic Python code that involves Pandas.\n",
    "* Read documentation and example code to use a new Python package\n",
    "* Modify and use a simple Python class\n",
    "\n",
    "Work through the following assignment, making sure to follow all of the directions and answer all of the questions.\n",
    "\n",
    "There are **54 points** possible on this assignment. Point values for each part are included in the section headers and question prompts.\n",
    "\n",
    "**This assignment is due at 11:59 pm on Friday, September 27.** It should be uploaded into the \"Homework Assignments\" submission folder for Homework #1 on D2L.  Submission instructions can be found at the end of the notebook. **You must also fill out a survey regarding this assignment.** The link to this survey can also be found at the end of the notebook."
   ]
  },
  {
   "cell_type": "markdown",
   "metadata": {},
   "source": [
    "\n",
    "<a id=\"toc\"></a>\n",
    "\n",
    "## Table of contents\n",
    "\n",
    "0. [Part 0: Office Hours and Help Room](#ofhrs) (6 points) \n",
    "\n",
    "1. [Part 1: Git and CLI](#gits) (10 points)\n",
    "\n",
    "2. [Part 2: Pandas](#pandas) (11 points)\n",
    "\n",
    "3. [Part 3: Using documentation to use a new Python package](#pillow) (8 points)\n",
    "\n",
    "4. [Part 4: Practice with using Python classes](#classes) (12 points)\n",
    "\n",
    "5. [Part 5: Finishing](#conclusion) (4 points)\n",
    "\n",
    "(3 points for periodic commits)"
   ]
  },
  {
   "cell_type": "markdown",
   "metadata": {},
   "source": [
    "---\n",
    "<a id=\"ofhrs\"></a>\n",
    "[Back to ToC](#toc)\n",
    "\n",
    "\n",
    "## Part 0: Visiting Office Hours or Help Room (6 points)\n"
   ]
  },
  {
   "cell_type": "markdown",
   "metadata": {},
   "source": [
    "### Going to Office Hours or Help Room\n",
    "\n",
    "#### Why are we doing this?\n",
    "We want to make sure that everyone knows how to access the resources available to you. One of the best resources you have at your disposal is office hours and help room.\n",
    "\n",
    "#### What will you do?\n",
    "(At minimum) Go to one office hour or help room session ​(it doesn’t matter which one you go to). Come with one question that you would like to talk about. It can be big or small. It can be about the homework, but it doesn't have to be. It can be anything about the course or about computational modeling and data analysis in general.\n",
    "\n",
    "Once you get to office hours or help room, ask your question. All of the instructors for CMSE 202 (Professors, TAs, and LAs) will be adding to a running list of folks that we see during office hours; as long as your name appears on the list, you’ll get credit for this part of Homework 1.\n",
    "\n",
    "**NOTE:** The day when the homework is due (**Friday, September 27 at 11:59pm**) will be the busiest time for folks to go to office hours or help room. You are **STRONGLY** encouraged to go to office hours or help room before Friday to get credit for this part of this assignment. (You should still feel free to go to office hours or helproom on Friday for help, though!)\n",
    "\n",
    "You can find the office hours calendar on the [course website](https://cmse.msu.edu/cmse202).\n",
    "\n",
    "**FINAL NOTE:** If you are unable to attend office hours or help room, please contact the instructor to make alternative arrangements and explain why you are unable to attend."
   ]
  },
  {
   "cell_type": "markdown",
   "metadata": {},
   "source": [
    "**&#9989; **Question 0.1 (6 points)****\n",
    "\n",
    "Type below the question you asked and **who you asked it to** (make sure you know who you're talking to!). Make sure you double-check that the instructor made note of this.\n",
    "\n",
    "If you did not attend office hours or help room, please explain why."
   ]
  },
  {
   "cell_type": "markdown",
   "metadata": {},
   "source": [
    "<font size=6 color=\"#009600\">&#9998;</font> I asked where I could find istructor slides.\n",
    "\n",
    "<font size=6 color=\"#009600\">&#9998;</font> *Spoke with Sunia*"
   ]
  },
  {
   "cell_type": "markdown",
   "metadata": {},
   "source": [
    "---\n",
    "<a id=\"gits\"></a>\n",
    "[Back to ToC](#toc)\n",
    "\n",
    "## Part 1: CLI and Git (10 points)\n",
    "\n",
    "### Setting up a new folder in your Git repository and adding your HW1\n",
    "`git` is a very important professional tool and we want you to get plenty of practice using it. The following set of questions check your understanding of using Git and the command line by having you add, commit, and push your homework file in your `cmse202-f24-turnin` repository. You will **share this repo with your course lead instructor and TA** so that they can pull your completed assignments for grading. Additionally, please verify that your repository is setup as a `private` repository rather than a `public` repository. "
   ]
  },
  {
   "cell_type": "markdown",
   "metadata": {},
   "source": [
    "&#9989; **Question 1.1 (2 points)**:\n",
    "1. Navigate to your turnin repository on Github and add your instructor and TA as a collaborator for the repository. This step is very important since we will need access to your repository to check the status of commits for homework assignments throughout the semester. To show you've done this, write the Github usernames of the instructor and TA below. "
   ]
  },
  {
   "cell_type": "markdown",
   "metadata": {},
   "source": [
    "```\n",
    "### hoolagans, and maryambrj ###\n",
    "```"
   ]
  },
  {
   "cell_type": "markdown",
   "metadata": {},
   "source": [
    "&#9989; **Question 1.2 (2 points)**:\n",
    "1. If you haven't already. Clone your `cmse202-f24-turnin` repository onto JupyterHub or your computer and paste the code you used to clone the repository below. Even if you already have it cloned, paste the code you would use to clone the repository below. "
   ]
  },
  {
   "cell_type": "markdown",
   "metadata": {},
   "source": [
    "``` bash\n",
    "# git clone https://github.com/whitete3/CMSE202-f24-turnin.git\n",
    "```"
   ]
  },
  {
   "cell_type": "markdown",
   "metadata": {},
   "source": [
    "&#9989; **Question 1.3 (1 point)**: Open a terminal. Then using the command line interface, move inside the repository folder\n",
    "\n",
    "What command did you use to enter into the folder?"
   ]
  },
  {
   "cell_type": "markdown",
   "metadata": {},
   "source": [
    "```bash\n",
    "# cd CMSE202-f24-turnin\n",
    "```"
   ]
  },
  {
   "cell_type": "markdown",
   "metadata": {},
   "source": [
    "&#9989; **Question 1.4 (1 point)**: Once inside the `cmse202-f24-turnin` repository, create a new folder called `hw-01`.\n",
    "\n",
    "What is the command to create the new folder ?"
   ]
  },
  {
   "cell_type": "markdown",
   "metadata": {},
   "source": [
    "```bash\n",
    "# mkdir hw-01\n",
    "```"
   ]
  },
  {
   "cell_type": "markdown",
   "metadata": {},
   "source": [
    "&#9989; **Question 1.5 (1 point)**: Move this notebook into that **new directory** in your repository. Move the file using the command line. Paste the code you used to move the file below. \n",
    "\n",
    "<font color=\"red\">**This is an important step**</font>: you'll want to make sure you **save and close** the notebook before you do this step and then re-open it once you've added it to your repository. If you don't do this, you could end up working on the wrong version of the notebook! Once you've moved the notebook correctly, re-open it and continue working on it.\n"
   ]
  },
  {
   "cell_type": "markdown",
   "metadata": {},
   "source": [
    "```bash\n",
    "#  mv HW-01_GitPracticeDebuggingPythonPackagesAndClasses-STUDENT.ipynb hw-01/\n",
    "```"
   ]
  },
  {
   "cell_type": "markdown",
   "metadata": {},
   "source": [
    "&#9989; **Question 1.6 (3 points)**: Now that you have the file moved into your repository in hw-01. Add, commit, and push your updates to GitHub. Record all the code you used to add, commit, and push your changes below. "
   ]
  },
  {
   "cell_type": "markdown",
   "metadata": {},
   "source": [
    "```bash\n",
    "# git add hw-01/HW-01_GitPracticeDebuggingPythonPackagesAndClasses-STUDENT.ipynb\n",
    "# git commit -m \"Moved HW-01 notebook to hw-01 directory\"\n",
    "# git push origin main\n",
    "\n",
    "```"
   ]
  },
  {
   "cell_type": "markdown",
   "metadata": {},
   "source": [
    "### Before moving on...\n",
    "\n",
    "**Important**: Make sure you've added your Professor and your TA as collaborators to your new \"turnin\" respository with \"Read\" access so that they can see your assignment. \n",
    "\n",
    "**Double-check the following**: Make sure that the version of this notebook that you are working on is the same one that you just added to your repository! If you are working on a different copy of the notebook, **none of your changes will be tracked**.\n",
    "\n",
    "If everything went as intended, **the file should now show up on your GitHub account** in the \"`cmse202-f24-turnin`\" repository inside the `hw-01` directory that you just created.  Periodically, **you'll be asked to commit your changes to the repository. By the end of the assignment you should have multiple commits that correspond to your completion of each section (as specified below)**. Of course, you can always commit your changes more often than that, if you wish.  It can be good to get into a habit of committing your changes any time you make a significant modification, or when you stop working on the project for a bit.\n"
   ]
  },
  {
   "cell_type": "markdown",
   "metadata": {},
   "source": [
    "---\n",
    "<a id=\"pandas\"></a>\n",
    "[Back to ToC](#toc)\n",
    "\n",
    "## Part 2: Using Pandas to Explore Data (11 points)\n",
    "\n",
    "### Reading in a data set with Pandas and using Pandas to explore the data.\n",
    "\n",
    "In this section, you will practice reading in a data set using with Pandas and use pandas functions to explore the dataset. You will explore the `auto_price.csv` file, which is a commonly used data set in the field of machine learning and data science which has data about many different cars and their prices. \n",
    "\n"
   ]
  },
  {
   "cell_type": "markdown",
   "metadata": {},
   "source": [
    "### Import Pandas before moving on!"
   ]
  },
  {
   "cell_type": "code",
   "execution_count": 2,
   "metadata": {},
   "outputs": [],
   "source": [
    "# Import Pandas and matplotlib\n",
    "import pandas as pd "
   ]
  },
  {
   "cell_type": "markdown",
   "metadata": {},
   "source": [
    "&#9989; **Questions 2.1 (2 points)**: Use Pandas to load in the `auto_price.csv` file as a DataFrame and then display the first 10 lines of the file. You can download the file using curl with https://raw.githubusercontent.com/hoolagans/CMSE202_FS24/main/auto_price.csv."
   ]
  },
  {
   "cell_type": "code",
   "execution_count": 3,
   "metadata": {},
   "outputs": [
    {
     "name": "stdout",
     "output_type": "stream",
     "text": [
      "  % Total    % Received % Xferd  Average Speed   Time    Time     Time  Current\n",
      "                                 Dload  Upload   Total   Spent    Left  Speed\n",
      "100 25838  100 25838    0     0   168k      0 --:--:-- --:--:-- --:--:--  169k\n"
     ]
    }
   ],
   "source": [
    "!curl -O https://raw.githubusercontent.com/hoolagans/CMSE202_FS24/main/auto_price.csv"
   ]
  },
  {
   "cell_type": "code",
   "execution_count": 4,
   "metadata": {},
   "outputs": [
    {
     "data": {
      "text/html": [
       "<div>\n",
       "<style scoped>\n",
       "    .dataframe tbody tr th:only-of-type {\n",
       "        vertical-align: middle;\n",
       "    }\n",
       "\n",
       "    .dataframe tbody tr th {\n",
       "        vertical-align: top;\n",
       "    }\n",
       "\n",
       "    .dataframe thead th {\n",
       "        text-align: right;\n",
       "    }\n",
       "</style>\n",
       "<table border=\"1\" class=\"dataframe\">\n",
       "  <thead>\n",
       "    <tr style=\"text-align: right;\">\n",
       "      <th></th>\n",
       "      <th>symboling</th>\n",
       "      <th>normalized-losses</th>\n",
       "      <th>wheel-base</th>\n",
       "      <th>length</th>\n",
       "      <th>width</th>\n",
       "      <th>height</th>\n",
       "      <th>curb-weight</th>\n",
       "      <th>engine-size</th>\n",
       "      <th>bore</th>\n",
       "      <th>stroke</th>\n",
       "      <th>compression-ratio</th>\n",
       "      <th>horsepower</th>\n",
       "      <th>peak-rpm</th>\n",
       "      <th>city-mpg</th>\n",
       "      <th>highway-mpg</th>\n",
       "      <th>target</th>\n",
       "    </tr>\n",
       "  </thead>\n",
       "  <tbody>\n",
       "    <tr>\n",
       "      <th>0</th>\n",
       "      <td>5.0</td>\n",
       "      <td>164.0</td>\n",
       "      <td>99.800003</td>\n",
       "      <td>176.600006</td>\n",
       "      <td>66.199997</td>\n",
       "      <td>54.299999</td>\n",
       "      <td>2337.0</td>\n",
       "      <td>109.0</td>\n",
       "      <td>3.19</td>\n",
       "      <td>3.40</td>\n",
       "      <td>10.0</td>\n",
       "      <td>102.0</td>\n",
       "      <td>5500.0</td>\n",
       "      <td>24.0</td>\n",
       "      <td>30.0</td>\n",
       "      <td>13950.0</td>\n",
       "    </tr>\n",
       "    <tr>\n",
       "      <th>1</th>\n",
       "      <td>5.0</td>\n",
       "      <td>164.0</td>\n",
       "      <td>99.400002</td>\n",
       "      <td>176.600006</td>\n",
       "      <td>66.400002</td>\n",
       "      <td>54.299999</td>\n",
       "      <td>2824.0</td>\n",
       "      <td>136.0</td>\n",
       "      <td>3.19</td>\n",
       "      <td>3.40</td>\n",
       "      <td>8.0</td>\n",
       "      <td>115.0</td>\n",
       "      <td>5500.0</td>\n",
       "      <td>18.0</td>\n",
       "      <td>22.0</td>\n",
       "      <td>17450.0</td>\n",
       "    </tr>\n",
       "    <tr>\n",
       "      <th>2</th>\n",
       "      <td>4.0</td>\n",
       "      <td>158.0</td>\n",
       "      <td>105.800003</td>\n",
       "      <td>192.699997</td>\n",
       "      <td>71.400002</td>\n",
       "      <td>55.700001</td>\n",
       "      <td>2844.0</td>\n",
       "      <td>136.0</td>\n",
       "      <td>3.19</td>\n",
       "      <td>3.40</td>\n",
       "      <td>8.5</td>\n",
       "      <td>110.0</td>\n",
       "      <td>5500.0</td>\n",
       "      <td>19.0</td>\n",
       "      <td>25.0</td>\n",
       "      <td>17710.0</td>\n",
       "    </tr>\n",
       "    <tr>\n",
       "      <th>3</th>\n",
       "      <td>4.0</td>\n",
       "      <td>158.0</td>\n",
       "      <td>105.800003</td>\n",
       "      <td>192.699997</td>\n",
       "      <td>71.400002</td>\n",
       "      <td>55.900002</td>\n",
       "      <td>3086.0</td>\n",
       "      <td>131.0</td>\n",
       "      <td>3.13</td>\n",
       "      <td>3.40</td>\n",
       "      <td>8.3</td>\n",
       "      <td>140.0</td>\n",
       "      <td>5500.0</td>\n",
       "      <td>17.0</td>\n",
       "      <td>20.0</td>\n",
       "      <td>23875.0</td>\n",
       "    </tr>\n",
       "    <tr>\n",
       "      <th>4</th>\n",
       "      <td>5.0</td>\n",
       "      <td>192.0</td>\n",
       "      <td>101.199997</td>\n",
       "      <td>176.800003</td>\n",
       "      <td>64.800003</td>\n",
       "      <td>54.299999</td>\n",
       "      <td>2395.0</td>\n",
       "      <td>108.0</td>\n",
       "      <td>3.50</td>\n",
       "      <td>2.80</td>\n",
       "      <td>8.8</td>\n",
       "      <td>101.0</td>\n",
       "      <td>5800.0</td>\n",
       "      <td>23.0</td>\n",
       "      <td>29.0</td>\n",
       "      <td>16430.0</td>\n",
       "    </tr>\n",
       "    <tr>\n",
       "      <th>5</th>\n",
       "      <td>3.0</td>\n",
       "      <td>192.0</td>\n",
       "      <td>101.199997</td>\n",
       "      <td>176.800003</td>\n",
       "      <td>64.800003</td>\n",
       "      <td>54.299999</td>\n",
       "      <td>2395.0</td>\n",
       "      <td>108.0</td>\n",
       "      <td>3.50</td>\n",
       "      <td>2.80</td>\n",
       "      <td>8.8</td>\n",
       "      <td>101.0</td>\n",
       "      <td>5800.0</td>\n",
       "      <td>23.0</td>\n",
       "      <td>29.0</td>\n",
       "      <td>16925.0</td>\n",
       "    </tr>\n",
       "    <tr>\n",
       "      <th>6</th>\n",
       "      <td>3.0</td>\n",
       "      <td>188.0</td>\n",
       "      <td>101.199997</td>\n",
       "      <td>176.800003</td>\n",
       "      <td>64.800003</td>\n",
       "      <td>54.299999</td>\n",
       "      <td>2710.0</td>\n",
       "      <td>164.0</td>\n",
       "      <td>3.31</td>\n",
       "      <td>3.19</td>\n",
       "      <td>9.0</td>\n",
       "      <td>121.0</td>\n",
       "      <td>4250.0</td>\n",
       "      <td>21.0</td>\n",
       "      <td>28.0</td>\n",
       "      <td>20970.0</td>\n",
       "    </tr>\n",
       "    <tr>\n",
       "      <th>7</th>\n",
       "      <td>3.0</td>\n",
       "      <td>188.0</td>\n",
       "      <td>101.199997</td>\n",
       "      <td>176.800003</td>\n",
       "      <td>64.800003</td>\n",
       "      <td>54.299999</td>\n",
       "      <td>2765.0</td>\n",
       "      <td>164.0</td>\n",
       "      <td>3.31</td>\n",
       "      <td>3.19</td>\n",
       "      <td>9.0</td>\n",
       "      <td>121.0</td>\n",
       "      <td>4250.0</td>\n",
       "      <td>21.0</td>\n",
       "      <td>28.0</td>\n",
       "      <td>21105.0</td>\n",
       "    </tr>\n",
       "    <tr>\n",
       "      <th>8</th>\n",
       "      <td>5.0</td>\n",
       "      <td>121.0</td>\n",
       "      <td>88.400002</td>\n",
       "      <td>141.100006</td>\n",
       "      <td>60.299999</td>\n",
       "      <td>53.200001</td>\n",
       "      <td>1488.0</td>\n",
       "      <td>61.0</td>\n",
       "      <td>2.91</td>\n",
       "      <td>3.03</td>\n",
       "      <td>9.5</td>\n",
       "      <td>48.0</td>\n",
       "      <td>5100.0</td>\n",
       "      <td>47.0</td>\n",
       "      <td>53.0</td>\n",
       "      <td>5151.0</td>\n",
       "    </tr>\n",
       "    <tr>\n",
       "      <th>9</th>\n",
       "      <td>4.0</td>\n",
       "      <td>98.0</td>\n",
       "      <td>94.500000</td>\n",
       "      <td>155.899994</td>\n",
       "      <td>63.599998</td>\n",
       "      <td>52.000000</td>\n",
       "      <td>1874.0</td>\n",
       "      <td>90.0</td>\n",
       "      <td>3.03</td>\n",
       "      <td>3.11</td>\n",
       "      <td>9.6</td>\n",
       "      <td>70.0</td>\n",
       "      <td>5400.0</td>\n",
       "      <td>38.0</td>\n",
       "      <td>43.0</td>\n",
       "      <td>6295.0</td>\n",
       "    </tr>\n",
       "  </tbody>\n",
       "</table>\n",
       "</div>"
      ],
      "text/plain": [
       "   symboling  normalized-losses  wheel-base      length      width     height  \\\n",
       "0        5.0              164.0   99.800003  176.600006  66.199997  54.299999   \n",
       "1        5.0              164.0   99.400002  176.600006  66.400002  54.299999   \n",
       "2        4.0              158.0  105.800003  192.699997  71.400002  55.700001   \n",
       "3        4.0              158.0  105.800003  192.699997  71.400002  55.900002   \n",
       "4        5.0              192.0  101.199997  176.800003  64.800003  54.299999   \n",
       "5        3.0              192.0  101.199997  176.800003  64.800003  54.299999   \n",
       "6        3.0              188.0  101.199997  176.800003  64.800003  54.299999   \n",
       "7        3.0              188.0  101.199997  176.800003  64.800003  54.299999   \n",
       "8        5.0              121.0   88.400002  141.100006  60.299999  53.200001   \n",
       "9        4.0               98.0   94.500000  155.899994  63.599998  52.000000   \n",
       "\n",
       "   curb-weight  engine-size  bore  stroke  compression-ratio  horsepower  \\\n",
       "0       2337.0        109.0  3.19    3.40               10.0       102.0   \n",
       "1       2824.0        136.0  3.19    3.40                8.0       115.0   \n",
       "2       2844.0        136.0  3.19    3.40                8.5       110.0   \n",
       "3       3086.0        131.0  3.13    3.40                8.3       140.0   \n",
       "4       2395.0        108.0  3.50    2.80                8.8       101.0   \n",
       "5       2395.0        108.0  3.50    2.80                8.8       101.0   \n",
       "6       2710.0        164.0  3.31    3.19                9.0       121.0   \n",
       "7       2765.0        164.0  3.31    3.19                9.0       121.0   \n",
       "8       1488.0         61.0  2.91    3.03                9.5        48.0   \n",
       "9       1874.0         90.0  3.03    3.11                9.6        70.0   \n",
       "\n",
       "   peak-rpm  city-mpg  highway-mpg   target  \n",
       "0    5500.0      24.0         30.0  13950.0  \n",
       "1    5500.0      18.0         22.0  17450.0  \n",
       "2    5500.0      19.0         25.0  17710.0  \n",
       "3    5500.0      17.0         20.0  23875.0  \n",
       "4    5800.0      23.0         29.0  16430.0  \n",
       "5    5800.0      23.0         29.0  16925.0  \n",
       "6    4250.0      21.0         28.0  20970.0  \n",
       "7    4250.0      21.0         28.0  21105.0  \n",
       "8    5100.0      47.0         53.0   5151.0  \n",
       "9    5400.0      38.0         43.0   6295.0  "
      ]
     },
     "execution_count": 4,
     "metadata": {},
     "output_type": "execute_result"
    }
   ],
   "source": [
    "# Put code here\n",
    "auto_price = pd.read_csv(\"auto_price.csv\")\n",
    "auto_price.head(10)"
   ]
  },
  {
   "cell_type": "markdown",
   "metadata": {},
   "source": [
    "&#9989; **Questions 2.2 (2 points)**: Use the Pandas `describe` function to describe the data. Once the data is described, record the max `length`, mean `width`, and standard deviation of the `curb-weight` in the cell below. "
   ]
  },
  {
   "cell_type": "code",
   "execution_count": 6,
   "metadata": {},
   "outputs": [
    {
     "name": "stdout",
     "output_type": "stream",
     "text": [
      "202.600006103516 65.60754711223099 481.9413205258712\n"
     ]
    }
   ],
   "source": [
    "# Put code here\n",
    "auto_price_info = auto_price.describe()\n",
    "max_length = auto_price_info.loc['max', 'length']\n",
    "mean_width = auto_price_info.loc['mean', 'width']\n",
    "std_curb_weight = auto_price_info.loc['std', 'curb-weight']\n",
    "print(max_length, mean_width, std_curb_weight)"
   ]
  },
  {
   "cell_type": "markdown",
   "metadata": {},
   "source": [
    "**Record your observations here**\n",
    "\n",
    "`max length`= 202.6    \n",
    "\n",
    "`mean width`= 65.6    \n",
    "\n",
    "`standard deviation curb-weight`= 481.9"
   ]
  },
  {
   "cell_type": "markdown",
   "metadata": {},
   "source": [
    "&#9989; **Questions 2.3 (2 points)**: Now create a new DataFrame using just the `length` and `horsepower` columns of your current DataFrame. Call this DataFrame `new_df`. Confirm that the new DataFrame contains just those two columns by displaying the first 4 rows. "
   ]
  },
  {
   "cell_type": "code",
   "execution_count": 7,
   "metadata": {},
   "outputs": [
    {
     "data": {
      "text/html": [
       "<div>\n",
       "<style scoped>\n",
       "    .dataframe tbody tr th:only-of-type {\n",
       "        vertical-align: middle;\n",
       "    }\n",
       "\n",
       "    .dataframe tbody tr th {\n",
       "        vertical-align: top;\n",
       "    }\n",
       "\n",
       "    .dataframe thead th {\n",
       "        text-align: right;\n",
       "    }\n",
       "</style>\n",
       "<table border=\"1\" class=\"dataframe\">\n",
       "  <thead>\n",
       "    <tr style=\"text-align: right;\">\n",
       "      <th></th>\n",
       "      <th>length</th>\n",
       "      <th>horsepower</th>\n",
       "    </tr>\n",
       "  </thead>\n",
       "  <tbody>\n",
       "    <tr>\n",
       "      <th>0</th>\n",
       "      <td>176.600006</td>\n",
       "      <td>102.0</td>\n",
       "    </tr>\n",
       "    <tr>\n",
       "      <th>1</th>\n",
       "      <td>176.600006</td>\n",
       "      <td>115.0</td>\n",
       "    </tr>\n",
       "    <tr>\n",
       "      <th>2</th>\n",
       "      <td>192.699997</td>\n",
       "      <td>110.0</td>\n",
       "    </tr>\n",
       "    <tr>\n",
       "      <th>3</th>\n",
       "      <td>192.699997</td>\n",
       "      <td>140.0</td>\n",
       "    </tr>\n",
       "  </tbody>\n",
       "</table>\n",
       "</div>"
      ],
      "text/plain": [
       "       length  horsepower\n",
       "0  176.600006       102.0\n",
       "1  176.600006       115.0\n",
       "2  192.699997       110.0\n",
       "3  192.699997       140.0"
      ]
     },
     "execution_count": 7,
     "metadata": {},
     "output_type": "execute_result"
    }
   ],
   "source": [
    "# Put code here\n",
    "new_df = auto_price[['length', 'horsepower']]\n",
    "new_df.head(4)"
   ]
  },
  {
   "cell_type": "markdown",
   "metadata": {},
   "source": [
    "&#9989; **Questions 2.4 (2 points)**: Using the DataFrame created in the previous question. Create a `scatter` plot showing `length` vs `horsepower` with `length` as the x-axis and `horsepower` as the y-axis. ***Hint*** Look up the documentation for Pandas plot function."
   ]
  },
  {
   "cell_type": "code",
   "execution_count": 8,
   "metadata": {},
   "outputs": [
    {
     "data": {
      "text/plain": [
       "Text(0.5, 1.0, 'Length vs. Horsepower')"
      ]
     },
     "execution_count": 8,
     "metadata": {},
     "output_type": "execute_result"
    },
    {
     "data": {
      "image/png": "[encoded data removed]",
      "text/plain": [
       "<Figure size 640x480 with 1 Axes>"
      ]
     },
     "metadata": {},
     "output_type": "display_data"
    }
   ],
   "source": [
    "# Put code here\n",
    "import matplotlib.pyplot as plt\n",
    "\n",
    "new_df.plot.scatter(x='length', y='horsepower')\n",
    "plt.title('Length vs. Horsepower')"
   ]
  },
  {
   "cell_type": "markdown",
   "metadata": {},
   "source": [
    "&#9989; **Questions 2.5 (1 points)**: Do you notice any pattern in the plot from the previous question? Briefly describe any pattern you notice in the cell below. "
   ]
  },
  {
   "cell_type": "markdown",
   "metadata": {},
   "source": [
    "***There is a positive correlation between length of cars and horsepower. As cars get larger, they have higher horsepower***"
   ]
  },
  {
   "cell_type": "markdown",
   "metadata": {},
   "source": [
    "&#9989; **Questions 2.6 (2 points)**: Now using the `new_df` DataFrame, filter for just cases where `horsepower` is greater than 160. Show the code you used to filter the DataFrame and then record the number of cases in the DataFrame that passed the filter. "
   ]
  },
  {
   "cell_type": "code",
   "execution_count": 10,
   "metadata": {},
   "outputs": [
    {
     "name": "stdout",
     "output_type": "stream",
     "text": [
      "6\n"
     ]
    }
   ],
   "source": [
    "# Put code here\n",
    "filtered_df = new_df[new_df['horsepower'] > 160]\n",
    "print(filtered_df.shape[0])"
   ]
  },
  {
   "cell_type": "markdown",
   "metadata": {},
   "source": [
    "***The number of cases with `horsepower` greater than 160 is 6***"
   ]
  },
  {
   "cell_type": "markdown",
   "metadata": {
    "tags": []
   },
   "source": [
    "---\n",
    "## &#128721; STOP\n",
    "**Pause to add and commit your changes to your Git repository!**\n",
    "\n",
    "Take a moment to save your notebook, commit the changes to your Git repository using the commit message **\"Committing Part 2\"**, no need to push the changes to GitHub, but you can if you want. Remember to add the 'auto_price.csv' file if you haven't already. (1 point)\n",
    "\n"
   ]
  },
  {
   "cell_type": "markdown",
   "metadata": {},
   "source": [
    "---\n",
    "<a id=\"pillow\"></a>\n",
    "[Back to ToC](#toc)\n",
    "\n",
    "## Part 3: Working with a less familiar Python package (8 points)\n",
    "\n",
    "In this part of the assignment, you will install a Python package that you probably have not used before, and use it to perform simple tasks. Specifically, you will use a package called Pillow, which is capable of performing imaging tasks. From the Pillow documentation:\n",
    "\n",
    "> The Python Imaging Library adds image processing capabilities to your Python interpreter.\n",
    "\n",
    ">This library provides extensive file format support, an efficient internal representation, and fairly powerful image processing capabilities.\n",
    "\n",
    ">The core image library is designed for fast access to data stored in a few basic pixel formats. It should provide a solid foundation for a general image processing tool.\n",
    "\n",
    "The documentation for Pillow can be found at https://pillow.readthedocs.io/en/stable/. In particular, the Pillow tutorial section will be very helpful for this part: https://pillow.readthedocs.io/en/stable/handbook/tutorial.html"
   ]
  },
  {
   "cell_type": "markdown",
   "metadata": {},
   "source": [
    "&#9989; **Question 3.1 (1 point)**: If you don't already have the `pillow` package installed, what command could you use to install it? (you should run this command on the command line, if you need to).\n",
    "\n",
    "If you do already have it installed, what command did you use to install it?"
   ]
  },
  {
   "cell_type": "code",
   "execution_count": null,
   "metadata": {},
   "outputs": [],
   "source": [
    "# Put code here"
   ]
  },
  {
   "cell_type": "markdown",
   "metadata": {},
   "source": [
    "Once `Pillow` is installed, running the following cell should not result in an error message. **You might need to restart your Jupyter kernel after installing the package for this to work.** (Once everything works, it should give you no output at all.)"
   ]
  },
  {
   "cell_type": "code",
   "execution_count": null,
   "metadata": {},
   "outputs": [],
   "source": [
    "import PIL"
   ]
  },
  {
   "cell_type": "markdown",
   "metadata": {},
   "source": [
    "&#9989; **Question 3.2 (2 point)**: In the Pillow tutorial, there is an example showing how to use Pillow to load in an image.  \n",
    "\n",
    "**Do this**: Modify that example to load in the 'logo.png' file. You do not need to display the image, just load it in and save it to a variable. To access the logo.png image you can download it with curl from https://raw.githubusercontent.com/hoolagans/CMSE202_FS24/main/logo.png"
   ]
  },
  {
   "cell_type": "code",
   "execution_count": null,
   "metadata": {},
   "outputs": [],
   "source": [
    "### Put your code here\n"
   ]
  },
  {
   "cell_type": "markdown",
   "metadata": {},
   "source": [
    "&#9989; **Question 3.3 (2 points)**: Now following the tutorial, create a new image called `im_rotate` that is rotated 180 degrees using the 'rotate' function in Pillow. "
   ]
  },
  {
   "cell_type": "code",
   "execution_count": null,
   "metadata": {},
   "outputs": [],
   "source": [
    "### Put your code here\n"
   ]
  },
  {
   "cell_type": "markdown",
   "metadata": {},
   "source": [
    "&#9989; **Question 3.4 (2 points)**: Now using the 'save' function, save your rotated image to a new file called 'logo_rotate.png'. Once your file is saved you can open the file to verify that the image is rotated 180 degrees. "
   ]
  },
  {
   "cell_type": "code",
   "execution_count": null,
   "metadata": {},
   "outputs": [],
   "source": [
    "### Put your code here\n"
   ]
  },
  {
   "cell_type": "markdown",
   "metadata": {},
   "source": [
    "&#9989; **Question 3.5 (1 points)**: Now that you've created the new image and saved it in the file 'logo_rotate.png' go ahead and open the file to confirm the image has been rotated. Once you confirm it has been rotated, add, commit, and push the new image into your Github repository in your HW1 folder. If you haven't already done it, you can also add, commit, and push the original image. Write the code below that you used to add, commit and push the new image file. "
   ]
  },
  {
   "cell_type": "code",
   "execution_count": null,
   "metadata": {},
   "outputs": [],
   "source": [
    "### Put your code here"
   ]
  },
  {
   "cell_type": "markdown",
   "metadata": {},
   "source": [
    "---\n",
    "## &#128721; STOP\n",
    "**Pause to commit your changes to your Git repository!**\n",
    "\n",
    "Take a moment to save your notebook, commit the changes to your Git repository using the commit message \"**Committing Part 3**\", no need to push the changes to GitHub yet, but you can if you want. (1 point)"
   ]
  },
  {
   "cell_type": "markdown",
   "metadata": {},
   "source": [
    "---\n",
    "<a id=\"classes\"></a>\n",
    "[Back to ToC](#toc)\n",
    "\n",
    "## Part 4: Practice with using Python classes (12 points)\n",
    "\n",
    "For this part of the assignment, you're going to work on fleshing out a partially constructed Python class and then experiment with using it to see if it works as intended.\n",
    "\n",
    "### The background\n",
    "\n",
    "The following code is a partially written Python class for tracking client details at a pet store. The goal of the class is to track pet and client details when a person drops off and picks up their pet for grooming at the pet store. The class has the `__init__` function completed which initializes all of the needed variables. `person_name` is intended to store the name of the pet owner, `pet_name` stores the name of the pet being dropped off, `pet_weight` stores the weight of the pet when it is dropped off, `review` stores the rating given for the grooming service and should be set when checking out (scores range from 1-10), `cost` records the total cost of the service, `drop_time` record the time the client dropped off their pet, and `pick_time` record the time that the client picked up their pet. The `checkin`, `checkout`, and `receipt` functions are incomplete and will require you to complete them in later questions in this section. "
   ]
  },
  {
   "cell_type": "code",
   "execution_count": null,
   "metadata": {},
   "outputs": [],
   "source": [
    "# DO NOT EDIT THIS VERSION, this is the reference version of the code, do not edit this version.\n",
    "class PetStoreTransaction:\n",
    "\n",
    "    def __init__():\n",
    "        self.person_name = \"\"\n",
    "        self.pet_name = \"\"\n",
    "        self.pet_weight=None\n",
    "        self.review=None\n",
    "        self.cost=None\n",
    "        self.drop_time=None\n",
    "        self.pick_time=None\n",
    "        \n",
    "    def checkin(person_name, pet_name, pet_weight):\n",
    "        self.person_name = person_name\n",
    "        self.pet_name = pet_name\n",
    "        \n",
    "    def checkout():\n",
    "        pass\n",
    "    \n",
    "    def receipt():\n",
    "        pass"
   ]
  },
  {
   "cell_type": "markdown",
   "metadata": {},
   "source": [
    "### Modifying the class to alter its behavior and add new functionality\n",
    "\n",
    "In the code cell below, you're provided with a second copy of this new Python class, `PetStoreTransaction`. For the remainder of this section of the assignment, **you will be modifying this version of the class** to add new functionality and alter its behavior. You will then be provided with snippets of code designed to test your modifications and confirm that you've implemented them as intended.\n",
    "\n",
    "**When you make edits to the class provided below, make sure to run the cell to save your changes before running the later parts that use the class!**"
   ]
  },
  {
   "cell_type": "code",
   "execution_count": null,
   "metadata": {},
   "outputs": [],
   "source": [
    "# EDIT THIS VERSION OF THE PYTHON CLASS\n",
    "# This should help to ensure that you can always fall back to the original version provided above, should you need to.\n",
    "\n",
    "\n",
    "class PetStoreTransaction:\n",
    "\n",
    "    def __init__(self):\n",
    "        self.person_name = \"\"\n",
    "        self.pet_name = \"\"\n",
    "        self.pet_weight=None\n",
    "        self.review=None\n",
    "        self.cost=None\n",
    "        self.drop_time=None\n",
    "        self.pick_time=None\n",
    "        \n",
    "    def checkin(self, person_name, pet_name,):\n",
    "        self.person_name = person_name\n",
    "        self.pet_name = pet_name\n",
    "        \n",
    "        print(self.person_name, \"checked in with \", self.pet_name, \"at \", self.drop_time, \". The pet weighs \",self.pet_weight, \"at dropoff\")\n",
    "        \n",
    "    def checkout():\n",
    "        pass\n",
    "    \n",
    "    def receipt():\n",
    "        print(\" Name: \", self.person_name,\n",
    "              \"\\n Pet: \", self.pet_name,\n",
    "              \"\\n Weight: \", self.pet_weight,\n",
    "              \"\\n Cost: \", self.cost,\n",
    "              \"\\n Drop-off time: \", self.drop_time,\n",
    "              \"\\n Pick-up time: \", self.pick_time, \n",
    "              \"\\n Review: \", self.review)"
   ]
  },
  {
   "cell_type": "markdown",
   "metadata": {},
   "source": [
    "&#9989; **Questions 4.1 (2 points)**: **Complete the `checkin` function in the `PetStoreTransaction` class, then run the following code to see what the output is.** **DO NOT MODIFY THIS CODE CELL**. The checkin function should take as arguments the `person_name`, `pet_name`, `pet_weight`, and `drop_time` and should store all of those values to the initialized variables. Once the function is completed without errors it should print \"Bob checked in with R2D2 at 3PM . The pet weighs 500 lbs at dropoff.\""
   ]
  },
  {
   "cell_type": "code",
   "execution_count": null,
   "metadata": {},
   "outputs": [],
   "source": [
    "## DO NOT CHANGE THIS CELL ##\n",
    "\n",
    "# This is an example usage of the class \"PetStoreTransaction\" If it doesn't work, you need to make changes to the class.\n",
    "test1 = PetStoreTransaction()\n",
    "test1.checkin(\"Bob\", \"R2D2\", \"500lbs\", \"3PM\")"
   ]
  },
  {
   "cell_type": "markdown",
   "metadata": {},
   "source": [
    "If you need to write any code to test the `checkin` function, place that here. "
   ]
  },
  {
   "cell_type": "code",
   "execution_count": null,
   "metadata": {},
   "outputs": [],
   "source": [
    "# Put exploratory code here, if needed\n"
   ]
  },
  {
   "cell_type": "markdown",
   "metadata": {},
   "source": [
    "&#9989; **Question 4.2 (4 points)**: Now, **complete a the class method named `checkout`.** It should take as input and record the `cost`, `pick_time`, and `review`. To conclude it should print some message that summarizes the checkout. Minimally the printed summary, should address the `pet_name`, `pick_time`, `cost`, and `review`. Once it is complete, you should run the following code and it should print \"R2D2 was successfully groomed and picked up at  4PM . The total cost was $499  and the service was rated 8 /10\". **Make sure to rerun the test code in Question 4.1 first since this uses the test1 object**"
   ]
  },
  {
   "cell_type": "code",
   "execution_count": null,
   "metadata": {},
   "outputs": [],
   "source": [
    "# Put your code here\n",
    "\n"
   ]
  },
  {
   "cell_type": "markdown",
   "metadata": {},
   "source": [
    "&#9989; **Question 4.3 (2 points)**: There is currently a bug in the `receipt` function, which prints a summary of the pet store grooming service. Fix the bug and then write below what you had to do to fix the bug. If the bug is fixed, the code in the test cell below should run without error. "
   ]
  },
  {
   "cell_type": "code",
   "execution_count": null,
   "metadata": {},
   "outputs": [],
   "source": [
    "## DO NOT CHANGE THIS CELL ##\n",
    "\n",
    "# receipt test code\n",
    "\n",
    "test1.receipt()"
   ]
  },
  {
   "cell_type": "markdown",
   "metadata": {},
   "source": [
    "**Write what you fixed here**"
   ]
  },
  {
   "cell_type": "markdown",
   "metadata": {},
   "source": [
    "### Using your new 'PetStoreTransaction' class\n",
    "\n",
    "Now that you completed and fixed the `PetStoreTransaction` class, let put it to use. \n",
    "\n",
    "&#9989; **Question 4.4 (4 points)**: Create an instance of your class and save it into a variable called `transaction1`. Once you've created the new instance, use the `checkin` function to check in a client. Choose any details you would like for the names, time, and weight as long as they are **different** from the details in the demo. Next, use the `checkout` function, again with **unique details from the example**. Finally, ensure everything is working by running the `receipt` function. "
   ]
  },
  {
   "cell_type": "code",
   "execution_count": null,
   "metadata": {},
   "outputs": [],
   "source": [
    "### Put your code here\n"
   ]
  },
  {
   "cell_type": "markdown",
   "metadata": {},
   "source": [
    "---\n",
    "## &#128721; STOP\n",
    "**Pause to commit your changes to your Git repository!**\n",
    "\n",
    "Take a moment to save your notebook, commit the changes to your Git repository using the commit message \"**Committing Part 4**\", no need to push the changes to GitHub yet, but you can if you want. (1 point)"
   ]
  },
  {
   "cell_type": "markdown",
   "metadata": {},
   "source": [
    "---\n",
    "<a id=\"conclusion\"></a>\n",
    "[Back to ToC](#toc)\n",
    "\n",
    "## Part 5: Finishing (4 points)\n",
    "\n",
    "\n",
    "**Question 5.1 (2 points):** Have you put **your name** and **GitHub username** at the top of your notebook?\n",
    "\n",
    "**Question 5.2 (2 points):** Finally, push your repository to GitHub so that all of the commits that you have been making along the way show up on GitHub.\n",
    "\n",
    "```bash\n",
    "# Put the command you used to push to GitHub here\n",
    "```\n",
    "\n",
    "**NOTE:** The grader will be able to see your commit messages and whether you pushed the repo at this stage, if everything has gone as planned. Double-check that things look correct on **GitHub** before you submit this notebook to **D2L**.\n"
   ]
  },
  {
   "cell_type": "markdown",
   "metadata": {},
   "source": [
    "---\n",
    "## Assignment wrap-up\n",
    "\n",
    "Please fill out the form that appears when you run the code below.  **You must completely fill this out in order to receive credit for the assignment!**"
   ]
  },
  {
   "cell_type": "code",
   "execution_count": null,
   "metadata": {
    "ExecuteTime": {
     "end_time": "2022-09-08T16:05:27.551532Z",
     "start_time": "2022-09-08T16:05:27.546612Z"
    }
   },
   "outputs": [],
   "source": [
    "from IPython.display import HTML\n",
    "HTML(\n",
    "\"\"\"\n",
    "<iframe \n",
    "\tsrc=\"https://forms.office.com/Pages/ResponsePage.aspx?id=MHEXIi9k2UGSEXQjetVofbihPqVa-WtNjOGYhCwpOgRURVVEQjZJVkVTWFM5Q1hYNkhWUjhXUkJUTS4u\" \n",
    "\twidth=\"800px\" \n",
    "\theight=\"600px\" \n",
    "\tframeborder=\"0\" \n",
    "\tmarginheight=\"0\" \n",
    "\tmarginwidth=\"0\">\n",
    "\tLoading...\n",
    "</iframe>\n",
    "\"\"\"\n",
    ")"
   ]
  },
  {
   "cell_type": "markdown",
   "metadata": {},
   "source": [
    "### Congratulations, you're done!\n",
    "\n",
    "Submit this assignment by uploading it to the course Desire2Learn web page.  Go to the **\"Homework Assignments\"** folder, find the dropbox link for Homework #1, and upload it there."
   ]
  },
  {
   "cell_type": "markdown",
   "metadata": {},
   "source": [
    "&#169; Copyright 2024,  Department of Computational Mathematics, Science and Engineering at Michigan State University"
   ]
  },
  {
   "cell_type": "code",
   "execution_count": null,
   "metadata": {},
   "outputs": [],
   "source": []
  }
 ],
 "metadata": {
  "anaconda-cloud": {},
  "kernelspec": {
   "display_name": "Python 3.11 (default)",
   "language": "python",
   "name": "python3"
  },
  "language_info": {
   "codemirror_mode": {
    "name": "ipython",
    "version": 3
   },
   "file_extension": ".py",
   "mimetype": "text/x-python",
   "name": "python",
   "nbconvert_exporter": "python",
   "pygments_lexer": "ipython3",
   "version": "3.11.9"
  },
  "latex_envs": {
   "LaTeX_envs_menu_present": true,
   "autoclose": false,
   "autocomplete": true,
   "bibliofile": "biblio.bib",
   "cite_by": "apalike",
   "current_citInitial": 1,
   "eqLabelWithNumbers": true,
   "eqNumInitial": 1,
   "hotkeys": {
    "equation": "Ctrl-E",
    "itemize": "Ctrl-I"
   },
   "labels_anchors": false,
   "latex_user_defs": false,
   "report_style_numbering": false,
   "user_envs_cfg": false
  },
  "toc": {
   "base_numbering": 1,
   "nav_menu": {},
   "number_sections": true,
   "sideBar": true,
   "skip_h1_title": false,
   "title_cell": "Table of Contents",
   "title_sidebar": "Contents",
   "toc_cell": false,
   "toc_position": {},
   "toc_section_display": true,
   "toc_window_display": false
  },
  "widgets": {
   "application/vnd.jupyter.widget-state+json": {
    "state": {},
    "version_major": 2,
    "version_minor": 0
   }
  }
 },
 "nbformat": 4,
 "nbformat_minor": 4
}
